{
 "cells": [
  {
   "cell_type": "code",
   "execution_count": 197,
   "id": "61a01ef5-62d9-4bce-95d5-d9af776314d5",
   "metadata": {},
   "outputs": [],
   "source": [
    "import numpy as np\n",
    "import matplotlib.pyplot as plt\n",
    "import pandas as pd\n",
    "from sklearn.linear_model import LinearRegression\n",
    "from sklearn.linear_model import Lasso\n",
    "from sklearn.model_selection import train_test_split\n",
    "from sklearn.linear_model import PoissonRegressor\n",
    "from sklearn.preprocessing import StandardScaler\n",
    "from seaborn import set_style\n",
    "set_style(\"whitegrid\")\n",
    "import csv\n",
    "from sklearn.metrics import mean_squared_error as mse\n",
    "from sklearn.metrics import mean_poisson_deviance as mpd\n",
    "import warnings\n",
    "warnings.filterwarnings(\"ignore\")"
   ]
  },
  {
   "cell_type": "code",
   "execution_count": 247,
   "id": "1aa3c006-1f4a-400c-b8d6-200ade192f37",
   "metadata": {},
   "outputs": [],
   "source": [
    "#Import the data\n",
    "rec = pd.read_csv('NFLRecords.csv')\n",
    "totalpicks = pd.read_csv('draftpicks.csv')\n",
    "totalcombine_data = pd.read_csv('Data_Bowl_Combine.csv')\n",
    "#Truncate data to the appropriate years\n",
    "combine_data=totalcombine_data.loc[totalcombine_data['Year']%3!=0]\n",
    "picks=totalpicks.loc[totalpicks['Year']%3!=0]\n",
    "testcombine=totalcombine_data.loc[totalcombine_data['Year']%3==0]\n",
    "testpicks=totalpicks.loc[totalpicks['Year']%3==0]\n",
    "#Truncate data to the appropriate years\n",
    "#combine_data=combine_data.loc[combine_data['Year']>2002]\n",
    "#picks=picks.truncate(after=4079)"
   ]
  },
  {
   "cell_type": "code",
   "execution_count": 248,
   "id": "7d8fea91-9713-4779-85f6-71e30d5ed5a2",
   "metadata": {},
   "outputs": [],
   "source": [
    "#Input 0 for anamolous DrAV values\n",
    "picks['DrAV'].fillna(0)\n",
    "for pick in picks.index:\n",
    "    if picks.loc[pick,'DrAV']<0:\n",
    "        picks.loc[pick,'DrAV']=0 "
   ]
  },
  {
   "cell_type": "code",
   "execution_count": 249,
   "id": "f4b9d6c0-0d53-4f79-a28e-f89173ee32e0",
   "metadata": {},
   "outputs": [
    {
     "data": {
      "text/plain": [
       "9"
      ]
     },
     "execution_count": 249,
     "metadata": {},
     "output_type": "execute_result"
    }
   ],
   "source": [
    "#Combine positions usually considered roughly equivalent\n",
    "new = 'C', 'G', 'OG', 'OL', 'OT'\n",
    "combine_data['Pos'] = combine_data['Pos'].replace(new, 'OL')\n",
    "combine_data['Pos'].nunique()\n",
    "\n",
    "\n",
    "new = 'FS', 'SS', 'S', 'DB', 'CB'\n",
    "combine_data['Pos'] = combine_data['Pos'].replace(new, 'DB')\n",
    "combine_data['Pos'].nunique()\n",
    "\n",
    "\n",
    "new = 'TE', 'FB'\n",
    "combine_data['Pos'] = combine_data['Pos'].replace(new, 'TE')\n",
    "combine_data['Pos'].nunique()\n",
    "\n",
    "new = 'NT', 'DL', 'DT'\n",
    "combine_data['Pos'] = combine_data['Pos'].replace(new, 'DT')\n",
    "combine_data['Pos'].nunique()\n",
    "\n",
    "\n",
    "new = 'LB', 'OLB', 'ILB'\n",
    "combine_data['Pos'] = combine_data['Pos'].replace(new, 'LB')\n",
    "combine_data['Pos'].nunique()\n",
    "\n",
    "\n",
    "new = 'EDGE'\n",
    "combine_data['Pos'] = combine_data['Pos'].replace(new, 'DE')\n",
    "combine_data['Pos'].nunique()\n",
    "\n",
    "\n",
    "#Remove K, P, LS\n",
    "new = 'K' , 'P' , 'LS'\n",
    "combine_data = combine_data[~combine_data['Pos'].isin(new)]\n",
    "combine_data['Pos'].nunique()\n"
   ]
  },
  {
   "cell_type": "code",
   "execution_count": 250,
   "id": "fd938554-6e37-4aab-94f9-49b2449a9f64",
   "metadata": {},
   "outputs": [
    {
     "name": "stdout",
     "output_type": "stream",
     "text": [
      "Player        0.000000\n",
      "Pos           0.000000\n",
      "Ht            0.000000\n",
      "Wt            0.000000\n",
      "Forty         4.471404\n",
      "Vertical     19.722704\n",
      "BenchReps    29.116118\n",
      "BroadJump    20.970537\n",
      "Cone         33.795494\n",
      "Shuttle      33.136915\n",
      "Team          0.000000\n",
      "Round         0.000000\n",
      "Pick          0.000000\n",
      "Year          0.000000\n",
      "Pfr_ID        1.663778\n",
      "dtype: float64\n"
     ]
    }
   ],
   "source": [
    "#Remove UDFAs and check how much data is missing.\n",
    "no_UDFAs = combine_data[~combine_data['Pick'].isna()]\n",
    "missing_no_UDFAs = no_UDFAs.isna().sum()\n",
    "missing_no_UDFAs = missing_no_UDFAs/len(no_UDFAs) * 100\n",
    "print(missing_no_UDFAs)"
   ]
  },
  {
   "cell_type": "code",
   "execution_count": 251,
   "id": "3a86a3c5-5ff4-4b77-a1f5-130f9e3563b7",
   "metadata": {},
   "outputs": [],
   "source": [
    "#Add statistics to the data set.\n",
    "no_UDFAs['DrAV']=[picks.loc[(picks['Tm']==no_UDFAs.loc[pick,'Team'])& (picks['Pick']==no_UDFAs.loc[pick,'Pick']), 'DrAV'].mean() for pick in no_UDFAs.index]\n",
    "#These statistics ended up not being predictable based on combine data.\n",
    "#no_UDFAs['SRS0']=[rec.loc[(rec['Tm']==no_UDFAs.loc[pick,'Team'])& (rec['Year']==no_UDFAs.loc[pick,'Year']-1), 'SRS'].mean() for pick in no_UDFAs.index]\n",
    "#no_UDFAs['SRSAv']=[rec.loc[(rec['Tm']==no_UDFAs.loc[pick,'Team'])& (rec['Year']>=no_UDFAs.loc[pick,'Year']) & (rec['Year']<=no_UDFAs.loc[pick,'Year']+3), 'SRS'].mean() for pick in no_UDFAs.index]\n",
    "#no_UDFAs['OSRS0']=[rec.loc[(rec['Tm']==no_UDFAs.loc[pick,'Team'])& (rec['Year']==no_UDFAs.loc[pick,'Year']-1), 'OSRS'].mean() for pick in no_UDFAs.index]\n",
    "#no_UDFAs['OSRSAv']=[rec.loc[(rec['Tm']==no_UDFAs.loc[pick,'Team'])& (rec['Year']>=no_UDFAs.loc[pick,'Year']) & (rec['Year']<=no_UDFAs.loc[pick,'Year']+3), 'OSRS'].mean() for pick in no_UDFAs.index]\n",
    "#no_UDFAs['DSRS0']=[rec.loc[(rec['Tm']==no_UDFAs.loc[pick,'Team'])& (rec['Year']==no_UDFAs.loc[pick,'Year']-1), 'DSRS'].mean() for pick in no_UDFAs.index]\n",
    "#no_UDFAs['DSRSAv']=[rec.loc[(rec['Tm']==no_UDFAs.loc[pick,'Team'])& (rec['Year']>=no_UDFAs.loc[pick,'Year']) & (rec['Year']<=no_UDFAs.loc[pick,'Year']+3), 'DSRS'].mean() for pick in no_UDFAs.index]"
   ]
  },
  {
   "cell_type": "code",
   "execution_count": 252,
   "id": "34d0300a-ce40-4231-b999-9ad9e4ad8fb8",
   "metadata": {},
   "outputs": [
    {
     "data": {
      "text/html": [
       "<style>#sk-container-id-8 {\n",
       "  /* Definition of color scheme common for light and dark mode */\n",
       "  --sklearn-color-text: black;\n",
       "  --sklearn-color-line: gray;\n",
       "  /* Definition of color scheme for unfitted estimators */\n",
       "  --sklearn-color-unfitted-level-0: #fff5e6;\n",
       "  --sklearn-color-unfitted-level-1: #f6e4d2;\n",
       "  --sklearn-color-unfitted-level-2: #ffe0b3;\n",
       "  --sklearn-color-unfitted-level-3: chocolate;\n",
       "  /* Definition of color scheme for fitted estimators */\n",
       "  --sklearn-color-fitted-level-0: #f0f8ff;\n",
       "  --sklearn-color-fitted-level-1: #d4ebff;\n",
       "  --sklearn-color-fitted-level-2: #b3dbfd;\n",
       "  --sklearn-color-fitted-level-3: cornflowerblue;\n",
       "\n",
       "  /* Specific color for light theme */\n",
       "  --sklearn-color-text-on-default-background: var(--sg-text-color, var(--theme-code-foreground, var(--jp-content-font-color1, black)));\n",
       "  --sklearn-color-background: var(--sg-background-color, var(--theme-background, var(--jp-layout-color0, white)));\n",
       "  --sklearn-color-border-box: var(--sg-text-color, var(--theme-code-foreground, var(--jp-content-font-color1, black)));\n",
       "  --sklearn-color-icon: #696969;\n",
       "\n",
       "  @media (prefers-color-scheme: dark) {\n",
       "    /* Redefinition of color scheme for dark theme */\n",
       "    --sklearn-color-text-on-default-background: var(--sg-text-color, var(--theme-code-foreground, var(--jp-content-font-color1, white)));\n",
       "    --sklearn-color-background: var(--sg-background-color, var(--theme-background, var(--jp-layout-color0, #111)));\n",
       "    --sklearn-color-border-box: var(--sg-text-color, var(--theme-code-foreground, var(--jp-content-font-color1, white)));\n",
       "    --sklearn-color-icon: #878787;\n",
       "  }\n",
       "}\n",
       "\n",
       "#sk-container-id-8 {\n",
       "  color: var(--sklearn-color-text);\n",
       "}\n",
       "\n",
       "#sk-container-id-8 pre {\n",
       "  padding: 0;\n",
       "}\n",
       "\n",
       "#sk-container-id-8 input.sk-hidden--visually {\n",
       "  border: 0;\n",
       "  clip: rect(1px 1px 1px 1px);\n",
       "  clip: rect(1px, 1px, 1px, 1px);\n",
       "  height: 1px;\n",
       "  margin: -1px;\n",
       "  overflow: hidden;\n",
       "  padding: 0;\n",
       "  position: absolute;\n",
       "  width: 1px;\n",
       "}\n",
       "\n",
       "#sk-container-id-8 div.sk-dashed-wrapped {\n",
       "  border: 1px dashed var(--sklearn-color-line);\n",
       "  margin: 0 0.4em 0.5em 0.4em;\n",
       "  box-sizing: border-box;\n",
       "  padding-bottom: 0.4em;\n",
       "  background-color: var(--sklearn-color-background);\n",
       "}\n",
       "\n",
       "#sk-container-id-8 div.sk-container {\n",
       "  /* jupyter's `normalize.less` sets `[hidden] { display: none; }`\n",
       "     but bootstrap.min.css set `[hidden] { display: none !important; }`\n",
       "     so we also need the `!important` here to be able to override the\n",
       "     default hidden behavior on the sphinx rendered scikit-learn.org.\n",
       "     See: https://github.com/scikit-learn/scikit-learn/issues/21755 */\n",
       "  display: inline-block !important;\n",
       "  position: relative;\n",
       "}\n",
       "\n",
       "#sk-container-id-8 div.sk-text-repr-fallback {\n",
       "  display: none;\n",
       "}\n",
       "\n",
       "div.sk-parallel-item,\n",
       "div.sk-serial,\n",
       "div.sk-item {\n",
       "  /* draw centered vertical line to link estimators */\n",
       "  background-image: linear-gradient(var(--sklearn-color-text-on-default-background), var(--sklearn-color-text-on-default-background));\n",
       "  background-size: 2px 100%;\n",
       "  background-repeat: no-repeat;\n",
       "  background-position: center center;\n",
       "}\n",
       "\n",
       "/* Parallel-specific style estimator block */\n",
       "\n",
       "#sk-container-id-8 div.sk-parallel-item::after {\n",
       "  content: \"\";\n",
       "  width: 100%;\n",
       "  border-bottom: 2px solid var(--sklearn-color-text-on-default-background);\n",
       "  flex-grow: 1;\n",
       "}\n",
       "\n",
       "#sk-container-id-8 div.sk-parallel {\n",
       "  display: flex;\n",
       "  align-items: stretch;\n",
       "  justify-content: center;\n",
       "  background-color: var(--sklearn-color-background);\n",
       "  position: relative;\n",
       "}\n",
       "\n",
       "#sk-container-id-8 div.sk-parallel-item {\n",
       "  display: flex;\n",
       "  flex-direction: column;\n",
       "}\n",
       "\n",
       "#sk-container-id-8 div.sk-parallel-item:first-child::after {\n",
       "  align-self: flex-end;\n",
       "  width: 50%;\n",
       "}\n",
       "\n",
       "#sk-container-id-8 div.sk-parallel-item:last-child::after {\n",
       "  align-self: flex-start;\n",
       "  width: 50%;\n",
       "}\n",
       "\n",
       "#sk-container-id-8 div.sk-parallel-item:only-child::after {\n",
       "  width: 0;\n",
       "}\n",
       "\n",
       "/* Serial-specific style estimator block */\n",
       "\n",
       "#sk-container-id-8 div.sk-serial {\n",
       "  display: flex;\n",
       "  flex-direction: column;\n",
       "  align-items: center;\n",
       "  background-color: var(--sklearn-color-background);\n",
       "  padding-right: 1em;\n",
       "  padding-left: 1em;\n",
       "}\n",
       "\n",
       "\n",
       "/* Toggleable style: style used for estimator/Pipeline/ColumnTransformer box that is\n",
       "clickable and can be expanded/collapsed.\n",
       "- Pipeline and ColumnTransformer use this feature and define the default style\n",
       "- Estimators will overwrite some part of the style using the `sk-estimator` class\n",
       "*/\n",
       "\n",
       "/* Pipeline and ColumnTransformer style (default) */\n",
       "\n",
       "#sk-container-id-8 div.sk-toggleable {\n",
       "  /* Default theme specific background. It is overwritten whether we have a\n",
       "  specific estimator or a Pipeline/ColumnTransformer */\n",
       "  background-color: var(--sklearn-color-background);\n",
       "}\n",
       "\n",
       "/* Toggleable label */\n",
       "#sk-container-id-8 label.sk-toggleable__label {\n",
       "  cursor: pointer;\n",
       "  display: block;\n",
       "  width: 100%;\n",
       "  margin-bottom: 0;\n",
       "  padding: 0.5em;\n",
       "  box-sizing: border-box;\n",
       "  text-align: center;\n",
       "}\n",
       "\n",
       "#sk-container-id-8 label.sk-toggleable__label-arrow:before {\n",
       "  /* Arrow on the left of the label */\n",
       "  content: \"▸\";\n",
       "  float: left;\n",
       "  margin-right: 0.25em;\n",
       "  color: var(--sklearn-color-icon);\n",
       "}\n",
       "\n",
       "#sk-container-id-8 label.sk-toggleable__label-arrow:hover:before {\n",
       "  color: var(--sklearn-color-text);\n",
       "}\n",
       "\n",
       "/* Toggleable content - dropdown */\n",
       "\n",
       "#sk-container-id-8 div.sk-toggleable__content {\n",
       "  max-height: 0;\n",
       "  max-width: 0;\n",
       "  overflow: hidden;\n",
       "  text-align: left;\n",
       "  /* unfitted */\n",
       "  background-color: var(--sklearn-color-unfitted-level-0);\n",
       "}\n",
       "\n",
       "#sk-container-id-8 div.sk-toggleable__content.fitted {\n",
       "  /* fitted */\n",
       "  background-color: var(--sklearn-color-fitted-level-0);\n",
       "}\n",
       "\n",
       "#sk-container-id-8 div.sk-toggleable__content pre {\n",
       "  margin: 0.2em;\n",
       "  border-radius: 0.25em;\n",
       "  color: var(--sklearn-color-text);\n",
       "  /* unfitted */\n",
       "  background-color: var(--sklearn-color-unfitted-level-0);\n",
       "}\n",
       "\n",
       "#sk-container-id-8 div.sk-toggleable__content.fitted pre {\n",
       "  /* unfitted */\n",
       "  background-color: var(--sklearn-color-fitted-level-0);\n",
       "}\n",
       "\n",
       "#sk-container-id-8 input.sk-toggleable__control:checked~div.sk-toggleable__content {\n",
       "  /* Expand drop-down */\n",
       "  max-height: 200px;\n",
       "  max-width: 100%;\n",
       "  overflow: auto;\n",
       "}\n",
       "\n",
       "#sk-container-id-8 input.sk-toggleable__control:checked~label.sk-toggleable__label-arrow:before {\n",
       "  content: \"▾\";\n",
       "}\n",
       "\n",
       "/* Pipeline/ColumnTransformer-specific style */\n",
       "\n",
       "#sk-container-id-8 div.sk-label input.sk-toggleable__control:checked~label.sk-toggleable__label {\n",
       "  color: var(--sklearn-color-text);\n",
       "  background-color: var(--sklearn-color-unfitted-level-2);\n",
       "}\n",
       "\n",
       "#sk-container-id-8 div.sk-label.fitted input.sk-toggleable__control:checked~label.sk-toggleable__label {\n",
       "  background-color: var(--sklearn-color-fitted-level-2);\n",
       "}\n",
       "\n",
       "/* Estimator-specific style */\n",
       "\n",
       "/* Colorize estimator box */\n",
       "#sk-container-id-8 div.sk-estimator input.sk-toggleable__control:checked~label.sk-toggleable__label {\n",
       "  /* unfitted */\n",
       "  background-color: var(--sklearn-color-unfitted-level-2);\n",
       "}\n",
       "\n",
       "#sk-container-id-8 div.sk-estimator.fitted input.sk-toggleable__control:checked~label.sk-toggleable__label {\n",
       "  /* fitted */\n",
       "  background-color: var(--sklearn-color-fitted-level-2);\n",
       "}\n",
       "\n",
       "#sk-container-id-8 div.sk-label label.sk-toggleable__label,\n",
       "#sk-container-id-8 div.sk-label label {\n",
       "  /* The background is the default theme color */\n",
       "  color: var(--sklearn-color-text-on-default-background);\n",
       "}\n",
       "\n",
       "/* On hover, darken the color of the background */\n",
       "#sk-container-id-8 div.sk-label:hover label.sk-toggleable__label {\n",
       "  color: var(--sklearn-color-text);\n",
       "  background-color: var(--sklearn-color-unfitted-level-2);\n",
       "}\n",
       "\n",
       "/* Label box, darken color on hover, fitted */\n",
       "#sk-container-id-8 div.sk-label.fitted:hover label.sk-toggleable__label.fitted {\n",
       "  color: var(--sklearn-color-text);\n",
       "  background-color: var(--sklearn-color-fitted-level-2);\n",
       "}\n",
       "\n",
       "/* Estimator label */\n",
       "\n",
       "#sk-container-id-8 div.sk-label label {\n",
       "  font-family: monospace;\n",
       "  font-weight: bold;\n",
       "  display: inline-block;\n",
       "  line-height: 1.2em;\n",
       "}\n",
       "\n",
       "#sk-container-id-8 div.sk-label-container {\n",
       "  text-align: center;\n",
       "}\n",
       "\n",
       "/* Estimator-specific */\n",
       "#sk-container-id-8 div.sk-estimator {\n",
       "  font-family: monospace;\n",
       "  border: 1px dotted var(--sklearn-color-border-box);\n",
       "  border-radius: 0.25em;\n",
       "  box-sizing: border-box;\n",
       "  margin-bottom: 0.5em;\n",
       "  /* unfitted */\n",
       "  background-color: var(--sklearn-color-unfitted-level-0);\n",
       "}\n",
       "\n",
       "#sk-container-id-8 div.sk-estimator.fitted {\n",
       "  /* fitted */\n",
       "  background-color: var(--sklearn-color-fitted-level-0);\n",
       "}\n",
       "\n",
       "/* on hover */\n",
       "#sk-container-id-8 div.sk-estimator:hover {\n",
       "  /* unfitted */\n",
       "  background-color: var(--sklearn-color-unfitted-level-2);\n",
       "}\n",
       "\n",
       "#sk-container-id-8 div.sk-estimator.fitted:hover {\n",
       "  /* fitted */\n",
       "  background-color: var(--sklearn-color-fitted-level-2);\n",
       "}\n",
       "\n",
       "/* Specification for estimator info (e.g. \"i\" and \"?\") */\n",
       "\n",
       "/* Common style for \"i\" and \"?\" */\n",
       "\n",
       ".sk-estimator-doc-link,\n",
       "a:link.sk-estimator-doc-link,\n",
       "a:visited.sk-estimator-doc-link {\n",
       "  float: right;\n",
       "  font-size: smaller;\n",
       "  line-height: 1em;\n",
       "  font-family: monospace;\n",
       "  background-color: var(--sklearn-color-background);\n",
       "  border-radius: 1em;\n",
       "  height: 1em;\n",
       "  width: 1em;\n",
       "  text-decoration: none !important;\n",
       "  margin-left: 1ex;\n",
       "  /* unfitted */\n",
       "  border: var(--sklearn-color-unfitted-level-1) 1pt solid;\n",
       "  color: var(--sklearn-color-unfitted-level-1);\n",
       "}\n",
       "\n",
       ".sk-estimator-doc-link.fitted,\n",
       "a:link.sk-estimator-doc-link.fitted,\n",
       "a:visited.sk-estimator-doc-link.fitted {\n",
       "  /* fitted */\n",
       "  border: var(--sklearn-color-fitted-level-1) 1pt solid;\n",
       "  color: var(--sklearn-color-fitted-level-1);\n",
       "}\n",
       "\n",
       "/* On hover */\n",
       "div.sk-estimator:hover .sk-estimator-doc-link:hover,\n",
       ".sk-estimator-doc-link:hover,\n",
       "div.sk-label-container:hover .sk-estimator-doc-link:hover,\n",
       ".sk-estimator-doc-link:hover {\n",
       "  /* unfitted */\n",
       "  background-color: var(--sklearn-color-unfitted-level-3);\n",
       "  color: var(--sklearn-color-background);\n",
       "  text-decoration: none;\n",
       "}\n",
       "\n",
       "div.sk-estimator.fitted:hover .sk-estimator-doc-link.fitted:hover,\n",
       ".sk-estimator-doc-link.fitted:hover,\n",
       "div.sk-label-container:hover .sk-estimator-doc-link.fitted:hover,\n",
       ".sk-estimator-doc-link.fitted:hover {\n",
       "  /* fitted */\n",
       "  background-color: var(--sklearn-color-fitted-level-3);\n",
       "  color: var(--sklearn-color-background);\n",
       "  text-decoration: none;\n",
       "}\n",
       "\n",
       "/* Span, style for the box shown on hovering the info icon */\n",
       ".sk-estimator-doc-link span {\n",
       "  display: none;\n",
       "  z-index: 9999;\n",
       "  position: relative;\n",
       "  font-weight: normal;\n",
       "  right: .2ex;\n",
       "  padding: .5ex;\n",
       "  margin: .5ex;\n",
       "  width: min-content;\n",
       "  min-width: 20ex;\n",
       "  max-width: 50ex;\n",
       "  color: var(--sklearn-color-text);\n",
       "  box-shadow: 2pt 2pt 4pt #999;\n",
       "  /* unfitted */\n",
       "  background: var(--sklearn-color-unfitted-level-0);\n",
       "  border: .5pt solid var(--sklearn-color-unfitted-level-3);\n",
       "}\n",
       "\n",
       ".sk-estimator-doc-link.fitted span {\n",
       "  /* fitted */\n",
       "  background: var(--sklearn-color-fitted-level-0);\n",
       "  border: var(--sklearn-color-fitted-level-3);\n",
       "}\n",
       "\n",
       ".sk-estimator-doc-link:hover span {\n",
       "  display: block;\n",
       "}\n",
       "\n",
       "/* \"?\"-specific style due to the `<a>` HTML tag */\n",
       "\n",
       "#sk-container-id-8 a.estimator_doc_link {\n",
       "  float: right;\n",
       "  font-size: 1rem;\n",
       "  line-height: 1em;\n",
       "  font-family: monospace;\n",
       "  background-color: var(--sklearn-color-background);\n",
       "  border-radius: 1rem;\n",
       "  height: 1rem;\n",
       "  width: 1rem;\n",
       "  text-decoration: none;\n",
       "  /* unfitted */\n",
       "  color: var(--sklearn-color-unfitted-level-1);\n",
       "  border: var(--sklearn-color-unfitted-level-1) 1pt solid;\n",
       "}\n",
       "\n",
       "#sk-container-id-8 a.estimator_doc_link.fitted {\n",
       "  /* fitted */\n",
       "  border: var(--sklearn-color-fitted-level-1) 1pt solid;\n",
       "  color: var(--sklearn-color-fitted-level-1);\n",
       "}\n",
       "\n",
       "/* On hover */\n",
       "#sk-container-id-8 a.estimator_doc_link:hover {\n",
       "  /* unfitted */\n",
       "  background-color: var(--sklearn-color-unfitted-level-3);\n",
       "  color: var(--sklearn-color-background);\n",
       "  text-decoration: none;\n",
       "}\n",
       "\n",
       "#sk-container-id-8 a.estimator_doc_link.fitted:hover {\n",
       "  /* fitted */\n",
       "  background-color: var(--sklearn-color-fitted-level-3);\n",
       "}\n",
       "</style><div id=\"sk-container-id-8\" class=\"sk-top-container\"><div class=\"sk-text-repr-fallback\"><pre>PoissonRegressor(alpha=0)</pre><b>In a Jupyter environment, please rerun this cell to show the HTML representation or trust the notebook. <br />On GitHub, the HTML representation is unable to render, please try loading this page with nbviewer.org.</b></div><div class=\"sk-container\" hidden><div class=\"sk-item\"><div class=\"sk-estimator fitted sk-toggleable\"><input class=\"sk-toggleable__control sk-hidden--visually\" id=\"sk-estimator-id-8\" type=\"checkbox\" checked><label for=\"sk-estimator-id-8\" class=\"sk-toggleable__label fitted sk-toggleable__label-arrow fitted\">&nbsp;&nbsp;PoissonRegressor<a class=\"sk-estimator-doc-link fitted\" rel=\"noreferrer\" target=\"_blank\" href=\"https://scikit-learn.org/1.5/modules/generated/sklearn.linear_model.PoissonRegressor.html\">?<span>Documentation for PoissonRegressor</span></a><span class=\"sk-estimator-doc-link fitted\">i<span>Fitted</span></span></label><div class=\"sk-toggleable__content fitted\"><pre>PoissonRegressor(alpha=0)</pre></div> </div></div></div></div>"
      ],
      "text/plain": [
       "PoissonRegressor(alpha=0)"
      ]
     },
     "execution_count": 252,
     "metadata": {},
     "output_type": "execute_result"
    }
   ],
   "source": [
    "#We will estimate how much an individual draft pick is worth.\n",
    "#I use a PoissonRegressor due to the right skew of the distribution.\n",
    "dravreg=PoissonRegressor(alpha=0)\n",
    "#The value of k and the exponent 0.5 were chosen via hyperparameter tuning \n",
    "k=180.01\n",
    "draftpick=np.array([[(i+k)**(-0.5)] for i in range(1,257)])\n",
    "picks['inv']=(picks['Pick']+k)**(-0.5)\n",
    "dravreg.fit( picks[['inv']],picks['DrAV'])"
   ]
  },
  {
   "cell_type": "code",
   "execution_count": 253,
   "id": "3ee30e40-a970-4d46-b725-497c6430209b",
   "metadata": {},
   "outputs": [
    {
     "data": {
      "image/png": "[encoded data removed]",
      "text/plain": [
       "<Figure size 640x480 with 1 Axes>"
      ]
     },
     "metadata": {},
     "output_type": "display_data"
    }
   ],
   "source": [
    "plt.scatter(picks['Pick'],picks['DrAV'],marker='.')\n",
    "plt.plot(range(1,257),dravreg.predict(draftpick),color='red', label='Model')\n",
    "plt.xlabel('Draft Pick')\n",
    "plt.ylabel('DrAV')\n",
    "plt.legend();"
   ]
  },
  {
   "cell_type": "code",
   "execution_count": 254,
   "id": "d4da2ead-51bc-41f2-ad54-e59f1dbe1a72",
   "metadata": {},
   "outputs": [],
   "source": [
    "# It was used to determine that combine data provided no further information than the draft slot about the teams future performance.\n",
    "\n",
    "no_UDFAs['inv']=(no_UDFAs['Pick']+k)**(-0.5)"
   ]
  },
  {
   "cell_type": "code",
   "execution_count": 255,
   "id": "865fe323-2570-4cb2-8c6e-cad14370e78e",
   "metadata": {},
   "outputs": [
    {
     "name": "stdout",
     "output_type": "stream",
     "text": [
      "The average DrAV of a QB is 19.049549549549546\n",
      "The average DrAV of a RB is 13.71448087431694\n",
      "The average DrAV of a WR is 11.680909863945576\n",
      "The average DrAV of a TE is 7.133802816901408\n",
      "The average DrAV of a OL is 16.136942675159236\n",
      "The average DrAV of a DE is 16.047619047619047\n",
      "The average DrAV of a DT is 12.955533596837945\n",
      "The average DrAV of a LB is 14.706521739130435\n",
      "The average DrAV of a DB is 11.252992220227409\n"
     ]
    }
   ],
   "source": [
    "#A sanity check statistic; the average value of each position.\n",
    "for Pos in [\"QB\", \"RB\", \"WR\",\"TE\",\"OL\",\"DE\",\"DT\",\"LB\",\"DB\"]:\n",
    "    print(\"The average DrAV of a \"+Pos+\" is \" + str(no_UDFAs.loc[no_UDFAs['Pos']==Pos, 'DrAV'].mean()))"
   ]
  },
  {
   "cell_type": "markdown",
   "id": "a0c06e95-95a9-444d-8307-3c35ac96bbdd",
   "metadata": {},
   "source": [
    "We note that based on current NFL salaries this does not match teams valuation of the positions. This may cause error when comparing players from different positions using this metric."
   ]
  },
  {
   "cell_type": "code",
   "execution_count": 256,
   "id": "8e8b9e39-8ac0-49b7-bd3f-e0c5e556fb5d",
   "metadata": {},
   "outputs": [
    {
     "name": "stdout",
     "output_type": "stream",
     "text": [
      "[0.01200269 0.03063802 0.04091999]\n"
     ]
    }
   ],
   "source": [
    "#Filter the desired position\n",
    "QB=no_UDFAs[no_UDFAs['Pos']=='QB']\n",
    "#Interpolate blank values\n",
    "QB=QB.fillna(value=QB.loc[:,['Forty','Vertical','BenchReps','BroadJump','Cone','Shuttle']].mean())\n",
    "#Model for the DrAV of a QB as a function of draft pick.\n",
    "QBmodelAv=PoissonRegressor(alpha=0,max_iter=10000)\n",
    "QBmodelAv.fit(QB[['inv']],QB['DrAV'])\n",
    "#The main model predicting player performance based on combine data, the features were chosen by hyperparameter tuning.\n",
    "#I used the full training set for the optimal model.\n",
    "QBmodel=PoissonRegressor()\n",
    "QBmodel.fit(QB[['Wt','Forty','BroadJump']],QB['DrAV'])\n",
    "print(QBmodel.coef_)"
   ]
  },
  {
   "cell_type": "code",
   "execution_count": 257,
   "id": "08cfd2b5-a618-4629-8ce3-78022b873a84",
   "metadata": {},
   "outputs": [
    {
     "name": "stdout",
     "output_type": "stream",
     "text": [
      "[ 0.00319581 -0.18677086 -0.02537735  0.04886766 -0.179269    0.15520935]\n"
     ]
    }
   ],
   "source": [
    "RB=no_UDFAs[no_UDFAs['Pos']=='RB']\n",
    "RB=RB.fillna(value=RB.loc[:,['Forty','Vertical','BenchReps','BroadJump','Cone','Shuttle']].mean())\n",
    "RBmodelAv=PoissonRegressor(alpha=0,max_iter=10000)\n",
    "RBmodelAv.fit(RB[['inv']],RB['DrAV'])\n",
    "RBmodel=PoissonRegressor()\n",
    "RBmodel.fit(RB[['Wt','Forty','Vertical','BroadJump','Cone','Shuttle']],RB['DrAV'])\n",
    "print(RBmodel.coef_)"
   ]
  },
  {
   "cell_type": "code",
   "execution_count": 258,
   "id": "a8460ec7-ec1d-455b-bd88-577ebe20749b",
   "metadata": {},
   "outputs": [
    {
     "data": {
      "text/plain": [
       "array([ 0.11459812, -0.10045472,  0.02127514,  0.05788356, -0.06214451])"
      ]
     },
     "execution_count": 258,
     "metadata": {},
     "output_type": "execute_result"
    }
   ],
   "source": [
    "TE=no_UDFAs[no_UDFAs['Pos']=='TE']\n",
    "TE=TE.fillna(value=TE.loc[:,['Forty','Vertical','BenchReps','BroadJump','Cone','Shuttle']].mean())\n",
    "TEmodelAv=PoissonRegressor(alpha=0,max_iter=10000)\n",
    "TEmodelAv.fit(TE[['inv']],TE['DrAV'])\n",
    "TEmodel=PoissonRegressor()\n",
    "TEmodel.fit(TE[['Ht','Forty','BenchReps','BroadJump','Shuttle']],TE['DrAV'])\n",
    "TEmodel.coef_"
   ]
  },
  {
   "cell_type": "code",
   "execution_count": 259,
   "id": "85ebd50a-df55-4a15-84c5-42a0bf246faf",
   "metadata": {},
   "outputs": [
    {
     "name": "stdout",
     "output_type": "stream",
     "text": [
      "[ 0.05258726  0.0027343  -0.28248438]\n"
     ]
    }
   ],
   "source": [
    "OL=no_UDFAs[no_UDFAs['Pos']=='OL']\n",
    "OL=OL.fillna(value=OL.loc[:,['Forty','Vertical','BenchReps','BroadJump','Cone','Shuttle']].mean())\n",
    "OLmodelAv=PoissonRegressor(alpha=0,max_iter=10000)\n",
    "OLmodelAv.fit(OL[['inv']],OL['DrAV'])\n",
    "OLmodel=PoissonRegressor()\n",
    "OLmodel.fit(OL[['Vertical','BenchReps','Shuttle']],OL['DrAV'])\n",
    "print(OLmodel.coef_)"
   ]
  },
  {
   "cell_type": "code",
   "execution_count": 260,
   "id": "af73d638-dba7-4c8e-ad33-fd7c158af97d",
   "metadata": {},
   "outputs": [
    {
     "name": "stdout",
     "output_type": "stream",
     "text": [
      "[ 0.00490808 -0.1499687   0.0385634 ]\n"
     ]
    }
   ],
   "source": [
    "WR=no_UDFAs[no_UDFAs['Pos']=='WR']\n",
    "WR=WR.fillna(value=WR.loc[:,['Forty','Vertical','BenchReps','BroadJump','Cone','Shuttle']].mean())\n",
    "WRmodelAv=PoissonRegressor(alpha=0,max_iter=10000)\n",
    "WRmodelAv.fit(WR[['inv']],WR['DrAV'])\n",
    "WRmodel=PoissonRegressor()\n",
    "WRmodel.fit(WR[['Wt','Forty','Vertical']],WR['DrAV'])\n",
    "print(WRmodel.coef_)\n"
   ]
  },
  {
   "cell_type": "code",
   "execution_count": 261,
   "id": "32ffacd6-90d7-4c3a-b3dd-8d0eb57e8785",
   "metadata": {},
   "outputs": [
    {
     "name": "stdout",
     "output_type": "stream",
     "text": [
      "[-0.03117041  0.01611373 -0.14842942 -0.17570255 -0.13293686]\n"
     ]
    }
   ],
   "source": [
    "DB=no_UDFAs[no_UDFAs['Pos']=='DB']\n",
    "DB=DB[~no_UDFAs['DrAV'].isna()]\n",
    "DB=DB.fillna(value=DB.loc[:,['Forty','Vertical','BenchReps','BroadJump','Cone','Shuttle']].mean())\n",
    "DBmodelAv=PoissonRegressor(alpha=0,max_iter=10000)\n",
    "DBmodelAv.fit(DB[['inv']],DB['DrAV'])\n",
    "DBmodel=PoissonRegressor()\n",
    "DBmodel.fit(DB[['Ht','Wt','Forty','Cone','Shuttle']],DB['DrAV'])\n",
    "print(DBmodel.coef_)"
   ]
  },
  {
   "cell_type": "code",
   "execution_count": 262,
   "id": "ddad26bb-9cdc-4ef9-bf03-1c6dcf1a4420",
   "metadata": {},
   "outputs": [
    {
     "name": "stdout",
     "output_type": "stream",
     "text": [
      "[ 0.01729254 -0.20833904  0.04499363 -0.00929322 -0.39697748 -0.31746745]\n"
     ]
    }
   ],
   "source": [
    "LB=no_UDFAs[no_UDFAs['Pos']=='LB']\n",
    "LB=LB.fillna(value=LB.loc[:,['Forty','Vertical','BenchReps','BroadJump','Cone','Shuttle']].mean())\n",
    "LBmodelAv=PoissonRegressor(alpha=0,max_iter=10000)\n",
    "LBmodelAv.fit(LB[['inv']],LB['DrAV'])\n",
    "LBmodel=PoissonRegressor()\n",
    "LBmodel.fit(LB[['Wt','Forty','Vertical','BenchReps','Cone','Shuttle']],LB['DrAV'])\n",
    "print(LBmodel.coef_)"
   ]
  },
  {
   "cell_type": "code",
   "execution_count": 263,
   "id": "c6a6ec68-a7b5-48c5-9d19-f4fe264faa9a",
   "metadata": {},
   "outputs": [
    {
     "name": "stdout",
     "output_type": "stream",
     "text": [
      "[ 0.00829705 -0.29674176  0.02387659 -0.41126027 -0.01352204]\n"
     ]
    }
   ],
   "source": [
    "DT=no_UDFAs[no_UDFAs['Pos']=='DT']\n",
    "DT=DT.fillna(value=DT.loc[:,['Forty','Vertical','BenchReps','BroadJump','Cone','Shuttle']].mean())\n",
    "DTmodelAv=PoissonRegressor(alpha=0,max_iter=10000)\n",
    "DTmodelAv.fit(DT[['inv']],DT['DrAV'])\n",
    "DTmodel=PoissonRegressor()\n",
    "DTmodel.fit(DT[['Wt','Forty','BenchReps','Cone','Shuttle']],DT['DrAV'])\n",
    "print(DTmodel.coef_)"
   ]
  },
  {
   "cell_type": "code",
   "execution_count": 264,
   "id": "035c289b-b855-49df-b405-d55ad82d8427",
   "metadata": {},
   "outputs": [
    {
     "name": "stdout",
     "output_type": "stream",
     "text": [
      "[ 0.0211488  -0.50406764  0.01900098  0.02776587 -0.07922732  0.08580122]\n"
     ]
    }
   ],
   "source": [
    "DE=no_UDFAs[no_UDFAs['Pos']=='DE']\n",
    "DE=DE.fillna(value=DE.loc[:,['Forty','Vertical','BenchReps','BroadJump','Cone','Shuttle']].mean())\n",
    "DEmodelAv=PoissonRegressor(alpha=0,max_iter=10000)\n",
    "DEmodelAv.fit(DE[['inv']],DE['DrAV'])\n",
    "DEmodel=PoissonRegressor()\n",
    "DEmodel.fit(DE[['Wt','Forty','BenchReps','BroadJump','Cone','Shuttle']],DE['DrAV'])\n",
    "print(DEmodel.coef_)"
   ]
  },
  {
   "cell_type": "code",
   "execution_count": 265,
   "id": "6a56dd42-22cf-4b92-82ed-0399127a941c",
   "metadata": {},
   "outputs": [],
   "source": [
    "Models=[QBmodel,RBmodel,WRmodel,TEmodel,OLmodel,DEmodel,DTmodel,LBmodel,DBmodel]\n",
    "ModelAv=[dravreg,QBmodelAv,RBmodelAv,WRmodelAv,TEmodelAv,OLmodelAv,DEmodelAv,DTmodelAv,LBmodelAv,DBmodelAv]"
   ]
  },
  {
   "cell_type": "code",
   "execution_count": 266,
   "id": "841c3fee-24f4-41e8-a509-8065a9346ef8",
   "metadata": {},
   "outputs": [
    {
     "data": {
      "text/plain": [
       "<matplotlib.legend.Legend at 0x205bdedea90>"
      ]
     },
     "execution_count": 266,
     "metadata": {},
     "output_type": "execute_result"
    },
    {
     "data": {
      "image/png": "[encoded data removed]",
      "text/plain": [
       "<Figure size 640x480 with 1 Axes>"
      ]
     },
     "metadata": {},
     "output_type": "display_data"
    }
   ],
   "source": [
    "#plt.scatter(picks['Pick'],picks['DrAV'],marker='.')\n",
    "plt.plot(range(1,257),dravreg.predict(draftpick), label='overall')\n",
    "plt.plot(range(1,257),QBmodelAv.predict(draftpick), label='QB')\n",
    "plt.plot(range(1,257),RBmodelAv.predict(draftpick), label='RB')\n",
    "plt.plot(range(1,257),WRmodelAv.predict(draftpick), label='WR')\n",
    "plt.plot(range(1,257),TEmodelAv.predict(draftpick), label='TE')\n",
    "plt.plot(range(1,257),OLmodelAv.predict(draftpick), label='OL')\n",
    "plt.plot(range(1,257),DEmodelAv.predict(draftpick), label='DE')\n",
    "plt.plot(range(1,257),DTmodelAv.predict(draftpick), label='DT')\n",
    "plt.plot(range(1,257),LBmodelAv.predict(draftpick), label='LB')\n",
    "plt.plot(range(1,257),DBmodelAv.predict(draftpick), label='DB')\n",
    "plt.xlabel('Draft Pick')\n",
    "plt.ylabel('DrAV')\n",
    "plt.legend()"
   ]
  },
  {
   "cell_type": "markdown",
   "id": "18e8bc40-bd28-4044-9ff9-c89cd252abad",
   "metadata": {},
   "source": [
    "As a bonus result, we can give a table showing the value of a pick in the various rounds for each position. As expected first round quarterbacks are the most valuable."
   ]
  },
  {
   "cell_type": "code",
   "execution_count": 267,
   "id": "5cd032fb-cf21-47d4-8ddb-2897477ec126",
   "metadata": {},
   "outputs": [],
   "source": [
    "table=np.array([model.predict([[(i+k)**-0.5 ] for i in [0,16,32,64,96,128,160,250]]) for model in ModelAv])"
   ]
  },
  {
   "cell_type": "code",
   "execution_count": 268,
   "id": "4b6936c7-27b2-49dd-ab82-71455df14dbc",
   "metadata": {},
   "outputs": [
    {
     "data": {
      "text/html": [
       "<div>\n",
       "<style scoped>\n",
       "    .dataframe tbody tr th:only-of-type {\n",
       "        vertical-align: middle;\n",
       "    }\n",
       "\n",
       "    .dataframe tbody tr th {\n",
       "        vertical-align: top;\n",
       "    }\n",
       "\n",
       "    .dataframe thead th {\n",
       "        text-align: right;\n",
       "    }\n",
       "</style>\n",
       "<table border=\"1\" class=\"dataframe\">\n",
       "  <thead>\n",
       "    <tr style=\"text-align: right;\">\n",
       "      <th></th>\n",
       "      <th>0</th>\n",
       "      <th>16</th>\n",
       "      <th>32</th>\n",
       "      <th>64</th>\n",
       "      <th>96</th>\n",
       "      <th>128</th>\n",
       "      <th>160</th>\n",
       "      <th>250</th>\n",
       "    </tr>\n",
       "  </thead>\n",
       "  <tbody>\n",
       "    <tr>\n",
       "      <th>All</th>\n",
       "      <td>44.267656</td>\n",
       "      <td>32.619061</td>\n",
       "      <td>24.898169</td>\n",
       "      <td>15.746591</td>\n",
       "      <td>10.811881</td>\n",
       "      <td>7.884508</td>\n",
       "      <td>6.018575</td>\n",
       "      <td>3.334524</td>\n",
       "    </tr>\n",
       "    <tr>\n",
       "      <th>QB</th>\n",
       "      <td>55.079425</td>\n",
       "      <td>38.537328</td>\n",
       "      <td>28.098409</td>\n",
       "      <td>16.441896</td>\n",
       "      <td>10.591853</td>\n",
       "      <td>7.321285</td>\n",
       "      <td>5.338441</td>\n",
       "      <td>2.675819</td>\n",
       "    </tr>\n",
       "    <tr>\n",
       "      <th>RB</th>\n",
       "      <td>46.820970</td>\n",
       "      <td>34.487722</td>\n",
       "      <td>26.315899</td>\n",
       "      <td>16.633975</td>\n",
       "      <td>11.415968</td>\n",
       "      <td>8.321848</td>\n",
       "      <td>6.350334</td>\n",
       "      <td>3.515813</td>\n",
       "    </tr>\n",
       "    <tr>\n",
       "      <th>WR</th>\n",
       "      <td>40.067223</td>\n",
       "      <td>29.342687</td>\n",
       "      <td>22.275646</td>\n",
       "      <td>13.958439</td>\n",
       "      <td>9.511714</td>\n",
       "      <td>6.892342</td>\n",
       "      <td>5.232640</td>\n",
       "      <td>2.864767</td>\n",
       "    </tr>\n",
       "    <tr>\n",
       "      <th>TE</th>\n",
       "      <td>40.057876</td>\n",
       "      <td>27.447093</td>\n",
       "      <td>19.645428</td>\n",
       "      <td>11.140432</td>\n",
       "      <td>6.994191</td>\n",
       "      <td>4.731078</td>\n",
       "      <td>3.386521</td>\n",
       "      <td>1.630157</td>\n",
       "    </tr>\n",
       "    <tr>\n",
       "      <th>OL</th>\n",
       "      <td>45.181286</td>\n",
       "      <td>35.051046</td>\n",
       "      <td>28.000975</td>\n",
       "      <td>19.131028</td>\n",
       "      <td>13.995267</td>\n",
       "      <td>10.763973</td>\n",
       "      <td>8.599317</td>\n",
       "      <td>5.263087</td>\n",
       "    </tr>\n",
       "    <tr>\n",
       "      <th>DE</th>\n",
       "      <td>43.274833</td>\n",
       "      <td>32.851674</td>\n",
       "      <td>25.745243</td>\n",
       "      <td>17.026586</td>\n",
       "      <td>12.127506</td>\n",
       "      <td>9.120573</td>\n",
       "      <td>7.147966</td>\n",
       "      <td>4.195092</td>\n",
       "    </tr>\n",
       "    <tr>\n",
       "      <th>DT</th>\n",
       "      <td>38.423597</td>\n",
       "      <td>29.148747</td>\n",
       "      <td>22.829363</td>\n",
       "      <td>15.082520</td>\n",
       "      <td>10.733667</td>\n",
       "      <td>8.066559</td>\n",
       "      <td>6.318051</td>\n",
       "      <td>3.703066</td>\n",
       "    </tr>\n",
       "    <tr>\n",
       "      <th>LB</th>\n",
       "      <td>52.262481</td>\n",
       "      <td>38.069782</td>\n",
       "      <td>28.764607</td>\n",
       "      <td>17.880660</td>\n",
       "      <td>12.104549</td>\n",
       "      <td>8.722831</td>\n",
       "      <td>6.591124</td>\n",
       "      <td>3.571420</td>\n",
       "    </tr>\n",
       "    <tr>\n",
       "      <th>DB</th>\n",
       "      <td>33.120847</td>\n",
       "      <td>25.410062</td>\n",
       "      <td>20.100107</td>\n",
       "      <td>13.505300</td>\n",
       "      <td>9.745185</td>\n",
       "      <td>7.409328</td>\n",
       "      <td>5.861267</td>\n",
       "      <td>3.510846</td>\n",
       "    </tr>\n",
       "  </tbody>\n",
       "</table>\n",
       "</div>"
      ],
      "text/plain": [
       "           0          16         32         64         96         128  \\\n",
       "All  44.267656  32.619061  24.898169  15.746591  10.811881   7.884508   \n",
       "QB   55.079425  38.537328  28.098409  16.441896  10.591853   7.321285   \n",
       "RB   46.820970  34.487722  26.315899  16.633975  11.415968   8.321848   \n",
       "WR   40.067223  29.342687  22.275646  13.958439   9.511714   6.892342   \n",
       "TE   40.057876  27.447093  19.645428  11.140432   6.994191   4.731078   \n",
       "OL   45.181286  35.051046  28.000975  19.131028  13.995267  10.763973   \n",
       "DE   43.274833  32.851674  25.745243  17.026586  12.127506   9.120573   \n",
       "DT   38.423597  29.148747  22.829363  15.082520  10.733667   8.066559   \n",
       "LB   52.262481  38.069782  28.764607  17.880660  12.104549   8.722831   \n",
       "DB   33.120847  25.410062  20.100107  13.505300   9.745185   7.409328   \n",
       "\n",
       "          160       250  \n",
       "All  6.018575  3.334524  \n",
       "QB   5.338441  2.675819  \n",
       "RB   6.350334  3.515813  \n",
       "WR   5.232640  2.864767  \n",
       "TE   3.386521  1.630157  \n",
       "OL   8.599317  5.263087  \n",
       "DE   7.147966  4.195092  \n",
       "DT   6.318051  3.703066  \n",
       "LB   6.591124  3.571420  \n",
       "DB   5.861267  3.510846  "
      ]
     },
     "execution_count": 268,
     "metadata": {},
     "output_type": "execute_result"
    }
   ],
   "source": [
    "pd.DataFrame(table, index=[\"All\",\"QB\", \"RB\", \"WR\",\"TE\",\"OL\",\"DE\",\"DT\",\"LB\",\"DB\"], columns=[0,16,32,64,96,128,160,250])"
   ]
  },
  {
   "cell_type": "code",
   "execution_count": 269,
   "id": "74a1cfbd-a4a0-48b7-84b6-981813f6c836",
   "metadata": {},
   "outputs": [],
   "source": [
    "#Import the testing data\n",
    "testpicks = pd.read_csv('PicksTest.csv')\n",
    "testcombine = pd.read_csv('TestCombineData.csv')\n"
   ]
  },
  {
   "cell_type": "code",
   "execution_count": 270,
   "id": "a8047dd6-3e2e-493a-bf75-ff0ebaedef1a",
   "metadata": {},
   "outputs": [
    {
     "data": {
      "text/plain": [
       "9"
      ]
     },
     "execution_count": 270,
     "metadata": {},
     "output_type": "execute_result"
    }
   ],
   "source": [
    "#Combine positions usually considered roughly equivalent\n",
    "new = 'C', 'G', 'OG', 'OL', 'OT'\n",
    "testcombine['Pos'] = testcombine['Pos'].replace(new, 'OL')\n",
    "testcombine['Pos'].nunique()\n",
    "\n",
    "\n",
    "new = 'FS', 'SS', 'S', 'DB', 'CB'\n",
    "testcombine['Pos'] = testcombine['Pos'].replace(new, 'DB')\n",
    "testcombine['Pos'].nunique()\n",
    "\n",
    "\n",
    "new = 'TE', 'FB'\n",
    "testcombine['Pos'] = testcombine['Pos'].replace(new, 'TE')\n",
    "testcombine['Pos'].nunique()\n",
    "\n",
    "new = 'NT', 'DL', 'DT'\n",
    "testcombine['Pos'] = testcombine['Pos'].replace(new, 'DT')\n",
    "testcombine['Pos'].nunique()\n",
    "\n",
    "\n",
    "new = 'LB', 'OLB', 'ILB'\n",
    "testcombine['Pos'] = testcombine['Pos'].replace(new, 'LB')\n",
    "testcombine['Pos'].nunique()\n",
    "\n",
    "\n",
    "new = 'EDGE'\n",
    "testcombine['Pos'] = testcombine['Pos'].replace(new, 'DE')\n",
    "testcombine['Pos'].nunique()\n",
    "\n",
    "\n",
    "#Remove K, P, LS\n",
    "new = 'K' , 'P' , 'LS'\n",
    "testcombine = testcombine[~testcombine['Pos'].isin(new)]\n",
    "testcombine['Pos'].nunique()"
   ]
  },
  {
   "cell_type": "code",
   "execution_count": 271,
   "id": "5d81ab0c-37ee-4f90-97ae-d2471b61593c",
   "metadata": {},
   "outputs": [],
   "source": [
    "#Remove UDFAs\n",
    "testno_UDFAs = testcombine[~testcombine['Pick'].isna()]\n",
    "testno_UDFAs['DrAV']=[testpicks.loc[(testpicks['Tm']==testno_UDFAs.loc[pick,'Team'])& (testpicks['Pick']==testno_UDFAs.loc[pick,'Pick']), 'DrAV'].mean() for pick in testno_UDFAs.index]"
   ]
  },
  {
   "cell_type": "code",
   "execution_count": 272,
   "id": "aa7062f3-aee2-4393-8c1f-4d3bae2287e9",
   "metadata": {},
   "outputs": [],
   "source": [
    "#A scaling statistic to account for the longer time older picks had to build up DrAV.\n",
    "scale=no_UDFAs['DrAV'].mean()/testno_UDFAs['DrAV'].mean()\n",
    "testno_UDFAs['adDrAV']=testno_UDFAs['DrAV']*scale"
   ]
  },
  {
   "cell_type": "code",
   "execution_count": 273,
   "id": "8afc9850-f043-4b2e-bc3c-461b01b32341",
   "metadata": {},
   "outputs": [],
   "source": [
    "testno_UDFAs['inv']=(testno_UDFAs['Pick']+k)**(-0.5)"
   ]
  },
  {
   "cell_type": "code",
   "execution_count": 274,
   "id": "b94d2404-ad4c-4a9f-8ea5-88fb8754bfb5",
   "metadata": {},
   "outputs": [
    {
     "name": "stdout",
     "output_type": "stream",
     "text": [
      "25.493123571005352\n",
      "26.268048186972393\n"
     ]
    }
   ],
   "source": [
    "TestQB=testno_UDFAs[testno_UDFAs['Pos']=='QB']\n",
    "TestQB=TestQB.fillna(value=QB.loc[:,['Forty','Vertical','BenchReps','BroadJump','Cone','Shuttle']].mean())\n",
    "#We compare the model to a dummy model that just looks at the mean.\n",
    "print(mpd(TestQB['DrAV'],QBmodel.predict(TestQB[['Wt','Forty','BroadJump']])))\n",
    "TestQB['mean']=[no_UDFAs.loc[no_UDFAs['Pos']=='QB', 'DrAV'].mean() for i in TestQB.index]\n",
    "print(mpd(TestQB['DrAV'],TestQB['mean']))"
   ]
  },
  {
   "cell_type": "code",
   "execution_count": 275,
   "id": "a9bc23ac-7610-48a9-a228-cfc2496a9db7",
   "metadata": {},
   "outputs": [
    {
     "name": "stdout",
     "output_type": "stream",
     "text": [
      "12.936455649002822\n",
      "13.192525920602533\n"
     ]
    }
   ],
   "source": [
    "TestRB=testno_UDFAs[testno_UDFAs['Pos']=='RB']\n",
    "TestRB=TestRB.fillna(value=RB.loc[:,['Forty','Vertical','BenchReps','BroadJump','Cone','Shuttle']].mean())\n",
    "print(mpd(TestRB['DrAV'],RBmodel.predict(TestRB[['Wt','Forty','Vertical','BroadJump','Cone','Shuttle']])))\n",
    "TestRB['mean']=[no_UDFAs.loc[no_UDFAs['Pos']=='RB', 'DrAV'].mean() for i in TestRB.index]\n",
    "print(mpd(TestRB['DrAV'],TestRB['mean']))"
   ]
  },
  {
   "cell_type": "code",
   "execution_count": 276,
   "id": "529f3dd9-6e13-412c-aecc-b03223d3ff30",
   "metadata": {},
   "outputs": [
    {
     "name": "stdout",
     "output_type": "stream",
     "text": [
      "14.912879706193616\n",
      "15.061400078545343\n"
     ]
    }
   ],
   "source": [
    "TestWR=testno_UDFAs[testno_UDFAs['Pos']=='WR']\n",
    "TestWR=TestWR.fillna(value=WR.loc[:,['Forty','Vertical','BenchReps','BroadJump','Cone','Shuttle']].mean())\n",
    "print(mpd(TestWR['DrAV'],WRmodel.predict(TestWR[['Wt','Forty','Vertical']])))\n",
    "TestWR['mean']=[no_UDFAs.loc[no_UDFAs['Pos']=='WR', 'DrAV'].mean() for i in TestWR.index]\n",
    "print(mpd(TestWR['DrAV'],TestWR['mean']))"
   ]
  },
  {
   "cell_type": "code",
   "execution_count": 277,
   "id": "29c6724e-7f64-4fd7-a4fb-d1b4a1af0de6",
   "metadata": {},
   "outputs": [
    {
     "name": "stdout",
     "output_type": "stream",
     "text": [
      "7.965982267792201\n",
      "8.141680338472106\n"
     ]
    }
   ],
   "source": [
    "TestTE=testno_UDFAs[testno_UDFAs['Pos']=='TE']\n",
    "TestTE=TestTE.fillna(value=TE.loc[:,['Forty','Vertical','BenchReps','BroadJump','Cone','Shuttle']].mean())\n",
    "#We compare the model to a dummy model that just looks at the mean.\n",
    "print(mpd(TestTE['DrAV'],TEmodel.predict(TestTE[['Ht','Forty','BenchReps','BroadJump','Shuttle']])))\n",
    "TestTE['mean']=[no_UDFAs.loc[no_UDFAs['Pos']=='TE', 'DrAV'].mean() for i in TestTE.index]\n",
    "print(mpd(TestTE['DrAV'],TestTE['mean']))"
   ]
  },
  {
   "cell_type": "code",
   "execution_count": 278,
   "id": "eb456b21-9e5d-4f05-9125-3792a3fb6f47",
   "metadata": {},
   "outputs": [
    {
     "name": "stdout",
     "output_type": "stream",
     "text": [
      "10.5634321100678\n",
      "11.328830836155408\n"
     ]
    }
   ],
   "source": [
    "TestOL=testno_UDFAs[testno_UDFAs['Pos']=='OL']\n",
    "TestOL=TestOL.fillna(value=OL.loc[:,['Forty','Vertical','BenchReps','BroadJump','Cone','Shuttle']].mean())\n",
    "#We compare the model to a dummy model that just looks at the mean.\n",
    "print(mpd(TestOL['DrAV'],OLmodel.predict(TestOL[['Vertical','BenchReps','Shuttle']])))\n",
    "TestOL['mean']=[no_UDFAs.loc[no_UDFAs['Pos']=='OL', 'DrAV'].mean() for i in TestOL.index]\n",
    "print(mpd(TestOL['DrAV'],TestOL['mean']))"
   ]
  },
  {
   "cell_type": "code",
   "execution_count": 279,
   "id": "6caed3c7-07e7-4d71-9639-dd06aab8151d",
   "metadata": {},
   "outputs": [
    {
     "name": "stdout",
     "output_type": "stream",
     "text": [
      "11.415032772491504\n",
      "12.56572282393794\n"
     ]
    }
   ],
   "source": [
    "TestDT=testno_UDFAs[testno_UDFAs['Pos']=='DT']\n",
    "TestDT=TestDT.fillna(value=DT.loc[:,['Forty','Vertical','BenchReps','BroadJump','Cone','Shuttle']].mean())\n",
    "#We compare the model to a dummy model that just looks at the mean.\n",
    "print(mpd(TestDT['DrAV'],DTmodel.predict(TestDT[['Wt','Forty','BenchReps','Cone','Shuttle']])))\n",
    "TestDT['mean']=[no_UDFAs.loc[no_UDFAs['Pos']=='DT', 'DrAV'].mean() for i in TestDT.index]\n",
    "print(mpd(TestDT['DrAV'],TestDT['mean']))"
   ]
  },
  {
   "cell_type": "code",
   "execution_count": 280,
   "id": "b7db21d3-180f-4c30-8698-0da3473b659e",
   "metadata": {},
   "outputs": [
    {
     "name": "stdout",
     "output_type": "stream",
     "text": [
      "13.118134243482611\n",
      "18.912412904692662\n"
     ]
    }
   ],
   "source": [
    "TestDE=testno_UDFAs[testno_UDFAs['Pos']=='DE']\n",
    "TestDE=TestDE.fillna(value=DE.loc[:,['Forty','Vertical','BenchReps','BroadJump','Cone','Shuttle']].mean())\n",
    "#We compare the model to a dummy model that just looks at the mean.\n",
    "print(mpd(TestDE['DrAV'],DEmodel.predict(TestDE[['Wt','Forty','BenchReps','BroadJump','Cone','Shuttle']])))\n",
    "TestDE['mean']=[no_UDFAs.loc[no_UDFAs['Pos']=='DE', 'DrAV'].mean() for i in TestDE.index]\n",
    "print(mpd(TestDE['DrAV'],TestDE['mean']))"
   ]
  },
  {
   "cell_type": "code",
   "execution_count": 281,
   "id": "04da301a-c5fd-46a6-be8a-2d014c3a4398",
   "metadata": {},
   "outputs": [
    {
     "name": "stdout",
     "output_type": "stream",
     "text": [
      "11.558778118615479\n",
      "11.718998195895558\n"
     ]
    }
   ],
   "source": [
    "TestLB=testno_UDFAs[testno_UDFAs['Pos']=='LB']\n",
    "TestLB=TestLB.fillna(value=LB.loc[:,['Forty','Vertical','BenchReps','BroadJump','Cone','Shuttle']].mean())\n",
    "#We compare the model to a dummy model that just looks at the mean.\n",
    "print(mpd(TestLB['DrAV'],LBmodel.predict(TestLB[['Wt','Forty','Vertical','BenchReps','Cone','Shuttle']])))\n",
    "TestLB['mean']=[no_UDFAs.loc[no_UDFAs['Pos']=='LB', 'DrAV'].mean() for i in TestLB.index]\n",
    "print(mpd(TestLB['DrAV'],TestLB['mean']))"
   ]
  },
  {
   "cell_type": "code",
   "execution_count": 282,
   "id": "c6360613-e790-431a-93e3-55dfd6d82f0a",
   "metadata": {},
   "outputs": [
    {
     "name": "stdout",
     "output_type": "stream",
     "text": [
      "7.366575103386911\n",
      "7.364341372017634\n"
     ]
    }
   ],
   "source": [
    "TestDB=testno_UDFAs[testno_UDFAs['Pos']=='DB']\n",
    "TestDB=TestDB.fillna(value=DB.loc[:,['Forty','Vertical','BenchReps','BroadJump','Cone','Shuttle']].mean())\n",
    "#We compare the model to a dummy model that just looks at the mean.\n",
    "print(mpd(TestDB['DrAV'],DBmodel.predict(TestDB[['Ht','Wt','Forty','Cone','Shuttle']])))\n",
    "TestDB['mean']=[no_UDFAs.loc[no_UDFAs['Pos']=='DB', 'DrAV'].mean() for i in TestDB.index]\n",
    "print(mpd(TestDB['DrAV'],TestDB['mean']))"
   ]
  }
 ],
 "metadata": {
  "kernelspec": {
   "display_name": "Python 3 (ipykernel)",
   "language": "python",
   "name": "python3"
  },
  "language_info": {
   "codemirror_mode": {
    "name": "ipython",
    "version": 3
   },
   "file_extension": ".py",
   "mimetype": "text/x-python",
   "name": "python",
   "nbconvert_exporter": "python",
   "pygments_lexer": "ipython3",
   "version": "3.9.15"
  }
 },
 "nbformat": 4,
 "nbformat_minor": 5
}
